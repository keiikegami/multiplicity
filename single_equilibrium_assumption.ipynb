{
 "cells": [
  {
   "cell_type": "markdown",
   "metadata": {},
   "source": [
    "例えば均衡選択メカニズムが安定的な二つの均衡を等確率で選ぶ、というものだった場合、単一均衡の仮定の下で推定される参入確率は不安定な均衡の近くになっちゃわね？っていう疑問を確かめる。"
   ]
  },
  {
   "cell_type": "code",
   "execution_count": 32,
   "metadata": {
    "collapsed": false
   },
   "outputs": [],
   "source": [
    "import pandas as pd\n",
    "\n",
    "df1 = pd.read_csv(\"1.7--0.5--6.csv\", index_col = 0)"
   ]
  },
  {
   "cell_type": "code",
   "execution_count": 37,
   "metadata": {
    "collapsed": false
   },
   "outputs": [
    {
     "data": {
      "text/html": [
       "<div>\n",
       "<style>\n",
       "    .dataframe thead tr:only-child th {\n",
       "        text-align: right;\n",
       "    }\n",
       "\n",
       "    .dataframe thead th {\n",
       "        text-align: left;\n",
       "    }\n",
       "\n",
       "    .dataframe tbody tr th {\n",
       "        vertical-align: top;\n",
       "    }\n",
       "</style>\n",
       "<table border=\"1\" class=\"dataframe\">\n",
       "  <thead>\n",
       "    <tr style=\"text-align: right;\">\n",
       "      <th></th>\n",
       "      <th>pop</th>\n",
       "      <th>dist1</th>\n",
       "      <th>dist2</th>\n",
       "      <th>entryprob1</th>\n",
       "      <th>entryprob2</th>\n",
       "      <th>equitype</th>\n",
       "      <th>entry1</th>\n",
       "      <th>entry2</th>\n",
       "      <th>single</th>\n",
       "      <th>logit_entry1</th>\n",
       "      <th>logit_entry2</th>\n",
       "    </tr>\n",
       "  </thead>\n",
       "  <tbody>\n",
       "    <tr>\n",
       "      <th>0</th>\n",
       "      <td>1.785304</td>\n",
       "      <td>2.490992</td>\n",
       "      <td>0.834502</td>\n",
       "      <td>0.023052</td>\n",
       "      <td>0.922701</td>\n",
       "      <td>0.0</td>\n",
       "      <td>0</td>\n",
       "      <td>1</td>\n",
       "      <td>1</td>\n",
       "      <td>0.169740</td>\n",
       "      <td>0.733779</td>\n",
       "    </tr>\n",
       "    <tr>\n",
       "      <th>1</th>\n",
       "      <td>2.147697</td>\n",
       "      <td>2.314002</td>\n",
       "      <td>0.919603</td>\n",
       "      <td>0.845843</td>\n",
       "      <td>0.131954</td>\n",
       "      <td>2.0</td>\n",
       "      <td>1</td>\n",
       "      <td>0</td>\n",
       "      <td>0</td>\n",
       "      <td>0.271353</td>\n",
       "      <td>0.705411</td>\n",
       "    </tr>\n",
       "    <tr>\n",
       "      <th>2</th>\n",
       "      <td>1.941536</td>\n",
       "      <td>2.530796</td>\n",
       "      <td>1.679463</td>\n",
       "      <td>0.032224</td>\n",
       "      <td>0.906250</td>\n",
       "      <td>1.0</td>\n",
       "      <td>0</td>\n",
       "      <td>1</td>\n",
       "      <td>0</td>\n",
       "      <td>0.290041</td>\n",
       "      <td>0.602730</td>\n",
       "    </tr>\n",
       "    <tr>\n",
       "      <th>3</th>\n",
       "      <td>1.010513</td>\n",
       "      <td>1.382964</td>\n",
       "      <td>1.607856</td>\n",
       "      <td>0.689004</td>\n",
       "      <td>0.038487</td>\n",
       "      <td>2.0</td>\n",
       "      <td>1</td>\n",
       "      <td>1</td>\n",
       "      <td>0</td>\n",
       "      <td>0.403368</td>\n",
       "      <td>0.330694</td>\n",
       "    </tr>\n",
       "    <tr>\n",
       "      <th>4</th>\n",
       "      <td>1.133806</td>\n",
       "      <td>1.769167</td>\n",
       "      <td>1.178164</td>\n",
       "      <td>0.028299</td>\n",
       "      <td>0.763185</td>\n",
       "      <td>1.0</td>\n",
       "      <td>0</td>\n",
       "      <td>1</td>\n",
       "      <td>0</td>\n",
       "      <td>0.282508</td>\n",
       "      <td>0.478584</td>\n",
       "    </tr>\n",
       "  </tbody>\n",
       "</table>\n",
       "</div>"
      ],
      "text/plain": [
       "        pop     dist1     dist2  entryprob1  entryprob2  equitype  entry1  \\\n",
       "0  1.785304  2.490992  0.834502    0.023052    0.922701       0.0       0   \n",
       "1  2.147697  2.314002  0.919603    0.845843    0.131954       2.0       1   \n",
       "2  1.941536  2.530796  1.679463    0.032224    0.906250       1.0       0   \n",
       "3  1.010513  1.382964  1.607856    0.689004    0.038487       2.0       1   \n",
       "4  1.133806  1.769167  1.178164    0.028299    0.763185       1.0       0   \n",
       "\n",
       "   entry2  single  logit_entry1  logit_entry2  \n",
       "0       1       1      0.169740      0.733779  \n",
       "1       0       0      0.271353      0.705411  \n",
       "2       1       0      0.290041      0.602730  \n",
       "3       1       0      0.403368      0.330694  \n",
       "4       1       0      0.282508      0.478584  "
      ]
     },
     "execution_count": 37,
     "metadata": {},
     "output_type": "execute_result"
    }
   ],
   "source": [
    "# 企業1の参入を回帰する時って、企業2の参入情報もseries煮含めていいのか？→入れてはいけない。が、なぜ？\n",
    "\n",
    "# case 1: logistic regression\n",
    "# 各企業のentryprobとlogitの結果によって得られた予想参入確率は、思った通りかなり食い違っている。\n",
    "#　→複数の均衡が存在するので、参入確率の一致推定ができてない。\n",
    "\n",
    "from sklearn.linear_model import LogisticRegression\n",
    "from sklearn.metrics import accuracy_score\n",
    "\n",
    "X1 = df1.drop([\"entryprob1\", \"entryprob2\", \"equitype\",\"single\", \"entry1\", \"entry2\"], axis = 1)\n",
    "X2 = df1.drop([\"entryprob1\", \"entryprob2\", \"equitype\",\"single\",  \"entry1\", \"entry2\"], axis = 1)\n",
    "y1 = df1.entry1\n",
    "y2 = df1.entry2\n",
    "\n",
    "clf1 = LogisticRegression()\n",
    "clf1.fit(X1, y1)\n",
    "coeff1 = pd.DataFrame([X1.columns, clf1.coef_[0]]).T\n",
    "df1[\"logit_entry1\"] = clf1.predict_proba(X1)[:, 1]\n",
    "\n",
    "clf2 = LogisticRegression()\n",
    "clf2.fit(X2, y2)\n",
    "coeff2 = pd.DataFrame([X2.columns, clf2.coef_[0]]).T\n",
    "df1[\"logit_entry2\"] = clf2.predict_proba(X2)[:, 1]\n",
    "\n",
    "df1.head(5)"
   ]
  },
  {
   "cell_type": "code",
   "execution_count": 34,
   "metadata": {
    "collapsed": false
   },
   "outputs": [
    {
     "name": "stdout",
     "output_type": "stream",
     "text": [
      "       0         1\n",
      "0    pop  0.643226\n",
      "1  dist1  -1.12532\n",
      "2  dist2  0.573843\n",
      "       0         1\n",
      "0    pop  0.357295\n",
      "1  dist1  0.852127\n",
      "2  dist2 -0.715892\n"
     ]
    }
   ],
   "source": [
    "print(coeff1)\n",
    "print(coeff2)"
   ]
  },
  {
   "cell_type": "code",
   "execution_count": 36,
   "metadata": {
    "collapsed": false
   },
   "outputs": [
    {
     "name": "stdout",
     "output_type": "stream",
     "text": [
      "0.642008160369\n",
      "0.606883093844\n"
     ]
    }
   ],
   "source": [
    "# logisticのscore　悪い\n",
    "print(clf1.score( X1, y1))\n",
    "print(clf2.score( X2, y2))"
   ]
  },
  {
   "cell_type": "code",
   "execution_count": 39,
   "metadata": {
    "collapsed": false
   },
   "outputs": [],
   "source": [
    "# case1 はやはり精度が良くない（本質的にはflexibilityよりも、別々の均衡から出た結果を一つの均衡からの結果として推定してしまっているからだけどね。）\n",
    "# case 2: polynomial (series ) regression\n",
    "\n",
    "from sklearn.preprocessing import PolynomialFeatures\n",
    "from sklearn.linear_model import LinearRegression\n",
    "from sklearn.pipeline import Pipeline\n",
    "\n",
    "# 企業1\n",
    "model1 = Pipeline([('poly', PolynomialFeatures(degree=3)), ('linear', LinearRegression(fit_intercept=False))])\n",
    "model1 = model1.fit(X1, y1)\n",
    "df1[\"poly_entry1\"] = model1.predict(X1)\n",
    "\n",
    "# 企業2\n",
    "model2 = Pipeline([('poly', PolynomialFeatures(degree=3)), ('linear', LinearRegression(fit_intercept=False))])\n",
    "model2 = model2.fit(X2, y2)\n",
    "df1[\"poly_entry2\"] = model2.predict(X2)"
   ]
  },
  {
   "cell_type": "code",
   "execution_count": 40,
   "metadata": {
    "collapsed": false
   },
   "outputs": [
    {
     "data": {
      "text/html": [
       "<div>\n",
       "<style>\n",
       "    .dataframe thead tr:only-child th {\n",
       "        text-align: right;\n",
       "    }\n",
       "\n",
       "    .dataframe thead th {\n",
       "        text-align: left;\n",
       "    }\n",
       "\n",
       "    .dataframe tbody tr th {\n",
       "        vertical-align: top;\n",
       "    }\n",
       "</style>\n",
       "<table border=\"1\" class=\"dataframe\">\n",
       "  <thead>\n",
       "    <tr style=\"text-align: right;\">\n",
       "      <th></th>\n",
       "      <th>pop</th>\n",
       "      <th>dist1</th>\n",
       "      <th>dist2</th>\n",
       "      <th>entryprob1</th>\n",
       "      <th>entryprob2</th>\n",
       "      <th>equitype</th>\n",
       "      <th>entry1</th>\n",
       "      <th>entry2</th>\n",
       "      <th>single</th>\n",
       "      <th>logit_entry1</th>\n",
       "      <th>logit_entry2</th>\n",
       "      <th>poly_entry1</th>\n",
       "      <th>poly_entry2</th>\n",
       "    </tr>\n",
       "  </thead>\n",
       "  <tbody>\n",
       "    <tr>\n",
       "      <th>0</th>\n",
       "      <td>1.785304</td>\n",
       "      <td>2.490992</td>\n",
       "      <td>0.834502</td>\n",
       "      <td>0.023052</td>\n",
       "      <td>0.922701</td>\n",
       "      <td>0.0</td>\n",
       "      <td>0</td>\n",
       "      <td>1</td>\n",
       "      <td>1</td>\n",
       "      <td>0.169740</td>\n",
       "      <td>0.733779</td>\n",
       "      <td>0.106989</td>\n",
       "      <td>0.817780</td>\n",
       "    </tr>\n",
       "    <tr>\n",
       "      <th>1</th>\n",
       "      <td>2.147697</td>\n",
       "      <td>2.314002</td>\n",
       "      <td>0.919603</td>\n",
       "      <td>0.845843</td>\n",
       "      <td>0.131954</td>\n",
       "      <td>2.0</td>\n",
       "      <td>1</td>\n",
       "      <td>0</td>\n",
       "      <td>0</td>\n",
       "      <td>0.271353</td>\n",
       "      <td>0.705411</td>\n",
       "      <td>0.358373</td>\n",
       "      <td>0.594588</td>\n",
       "    </tr>\n",
       "    <tr>\n",
       "      <th>2</th>\n",
       "      <td>1.941536</td>\n",
       "      <td>2.530796</td>\n",
       "      <td>1.679463</td>\n",
       "      <td>0.032224</td>\n",
       "      <td>0.906250</td>\n",
       "      <td>1.0</td>\n",
       "      <td>0</td>\n",
       "      <td>1</td>\n",
       "      <td>0</td>\n",
       "      <td>0.290041</td>\n",
       "      <td>0.602730</td>\n",
       "      <td>0.468981</td>\n",
       "      <td>0.462996</td>\n",
       "    </tr>\n",
       "    <tr>\n",
       "      <th>3</th>\n",
       "      <td>1.010513</td>\n",
       "      <td>1.382964</td>\n",
       "      <td>1.607856</td>\n",
       "      <td>0.689004</td>\n",
       "      <td>0.038487</td>\n",
       "      <td>2.0</td>\n",
       "      <td>1</td>\n",
       "      <td>1</td>\n",
       "      <td>0</td>\n",
       "      <td>0.403368</td>\n",
       "      <td>0.330694</td>\n",
       "      <td>0.388450</td>\n",
       "      <td>0.305051</td>\n",
       "    </tr>\n",
       "    <tr>\n",
       "      <th>4</th>\n",
       "      <td>1.133806</td>\n",
       "      <td>1.769167</td>\n",
       "      <td>1.178164</td>\n",
       "      <td>0.028299</td>\n",
       "      <td>0.763185</td>\n",
       "      <td>1.0</td>\n",
       "      <td>0</td>\n",
       "      <td>1</td>\n",
       "      <td>0</td>\n",
       "      <td>0.282508</td>\n",
       "      <td>0.478584</td>\n",
       "      <td>0.270573</td>\n",
       "      <td>0.519785</td>\n",
       "    </tr>\n",
       "  </tbody>\n",
       "</table>\n",
       "</div>"
      ],
      "text/plain": [
       "        pop     dist1     dist2  entryprob1  entryprob2  equitype  entry1  \\\n",
       "0  1.785304  2.490992  0.834502    0.023052    0.922701       0.0       0   \n",
       "1  2.147697  2.314002  0.919603    0.845843    0.131954       2.0       1   \n",
       "2  1.941536  2.530796  1.679463    0.032224    0.906250       1.0       0   \n",
       "3  1.010513  1.382964  1.607856    0.689004    0.038487       2.0       1   \n",
       "4  1.133806  1.769167  1.178164    0.028299    0.763185       1.0       0   \n",
       "\n",
       "   entry2  single  logit_entry1  logit_entry2  poly_entry1  poly_entry2  \n",
       "0       1       1      0.169740      0.733779     0.106989     0.817780  \n",
       "1       0       0      0.271353      0.705411     0.358373     0.594588  \n",
       "2       1       0      0.290041      0.602730     0.468981     0.462996  \n",
       "3       1       0      0.403368      0.330694     0.388450     0.305051  \n",
       "4       1       0      0.282508      0.478584     0.270573     0.519785  "
      ]
     },
     "execution_count": 40,
     "metadata": {},
     "output_type": "execute_result"
    }
   ],
   "source": [
    "df1.head(5)"
   ]
  },
  {
   "cell_type": "markdown",
   "metadata": {},
   "source": [
    "logitとpolynomial regressionのそれぞれを、企業ごとに、本来の参入確率を縦軸として散布図で表示する。"
   ]
  },
  {
   "cell_type": "code",
   "execution_count": 56,
   "metadata": {
    "collapsed": false
   },
   "outputs": [
    {
     "data": {
      "image/png": "[encoded data removed]",
      "text/plain": [
       "<matplotlib.figure.Figure at 0x11929a160>"
      ]
     },
     "metadata": {},
     "output_type": "display_data"
    }
   ],
   "source": [
    "import matplotlib.pyplot as plt\n",
    "% matplotlib inline\n",
    "\n",
    "probs1 = df1.loc[:, [\"entryprob1\", \"logit_entry1\", \"poly_entry1\"]]\n",
    "probs2 = df1.loc[:, [\"entryprob2\", \"logit_entry2\", \"poly_entry2\"]]\n",
    "\n",
    "fig, axes = plt.subplots(2, len(probs1.columns.values)-1, sharey=True)\n",
    "\n",
    "for i, col in enumerate(probs1.columns.values[1:]):\n",
    "    probs1.plot(x = [col], y = [\"entryprob1\"], kind=\"scatter\", ax=axes[0, i])\n",
    "    \n",
    "for i, col in enumerate(probs2.columns.values[1:]):\n",
    "    probs2.plot(x = [col], y = [\"entryprob2\"], kind=\"scatter\", ax=axes[1, i])\n",
    "    \n",
    "plt.show()"
   ]
  },
  {
   "cell_type": "code",
   "execution_count": 54,
   "metadata": {
    "collapsed": false
   },
   "outputs": [
    {
     "data": {
      "text/plain": [
       "<matplotlib.axes._subplots.AxesSubplot at 0x11904b6d8>"
      ]
     },
     "execution_count": 54,
     "metadata": {},
     "output_type": "execute_result"
    }
   ],
   "source": [
    "axes[0,1]"
   ]
  },
  {
   "cell_type": "code",
   "execution_count": null,
   "metadata": {
    "collapsed": true
   },
   "outputs": [],
   "source": []
  }
 ],
 "metadata": {
  "kernelspec": {
   "display_name": "Python 3",
   "language": "python",
   "name": "python3"
  },
  "language_info": {
   "codemirror_mode": {
    "name": "ipython",
    "version": 3
   },
   "file_extension": ".py",
   "mimetype": "text/x-python",
   "name": "python",
   "nbconvert_exporter": "python",
   "pygments_lexer": "ipython3",
   "version": "3.5.1"
  }
 },
 "nbformat": 4,
 "nbformat_minor": 0
}
