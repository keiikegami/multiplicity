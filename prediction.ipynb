{
 "cells": [
  {
   "cell_type": "code",
   "execution_count": 11,
   "metadata": {
    "collapsed": true
   },
   "outputs": [],
   "source": [
    "import pandas as pd\n",
    "import numpy as np\n",
    "import generatedata as gd"
   ]
  },
  {
   "cell_type": "code",
   "execution_count": 12,
   "metadata": {
    "collapsed": true
   },
   "outputs": [],
   "source": [
    "param1 = (1.7, -0.5, -6)\n",
    "gd.generate(*param1)"
   ]
  },
  {
   "cell_type": "code",
   "execution_count": 14,
   "metadata": {
    "collapsed": false
   },
   "outputs": [
    {
     "data": {
      "text/html": [
       "<div>\n",
       "<table border=\"1\" class=\"dataframe\">\n",
       "  <thead>\n",
       "    <tr style=\"text-align: right;\">\n",
       "      <th></th>\n",
       "      <th>pop</th>\n",
       "      <th>dist1</th>\n",
       "      <th>dist2</th>\n",
       "      <th>entryprob1</th>\n",
       "      <th>entryprob2</th>\n",
       "      <th>equitype</th>\n",
       "      <th>entry1</th>\n",
       "      <th>entry2</th>\n",
       "    </tr>\n",
       "  </thead>\n",
       "  <tbody>\n",
       "    <tr>\n",
       "      <th>0</th>\n",
       "      <td>1.785304</td>\n",
       "      <td>2.490992</td>\n",
       "      <td>0.834502</td>\n",
       "      <td>0.023052</td>\n",
       "      <td>0.922701</td>\n",
       "      <td>0.0</td>\n",
       "      <td>0</td>\n",
       "      <td>1</td>\n",
       "    </tr>\n",
       "    <tr>\n",
       "      <th>1</th>\n",
       "      <td>2.147697</td>\n",
       "      <td>2.314002</td>\n",
       "      <td>0.919603</td>\n",
       "      <td>0.845843</td>\n",
       "      <td>0.131954</td>\n",
       "      <td>2.0</td>\n",
       "      <td>1</td>\n",
       "      <td>0</td>\n",
       "    </tr>\n",
       "    <tr>\n",
       "      <th>2</th>\n",
       "      <td>1.941536</td>\n",
       "      <td>2.530796</td>\n",
       "      <td>1.679463</td>\n",
       "      <td>0.032224</td>\n",
       "      <td>0.906250</td>\n",
       "      <td>1.0</td>\n",
       "      <td>0</td>\n",
       "      <td>1</td>\n",
       "    </tr>\n",
       "    <tr>\n",
       "      <th>3</th>\n",
       "      <td>1.010513</td>\n",
       "      <td>1.382964</td>\n",
       "      <td>1.607856</td>\n",
       "      <td>0.689004</td>\n",
       "      <td>0.038487</td>\n",
       "      <td>2.0</td>\n",
       "      <td>1</td>\n",
       "      <td>1</td>\n",
       "    </tr>\n",
       "    <tr>\n",
       "      <th>4</th>\n",
       "      <td>1.133806</td>\n",
       "      <td>1.769167</td>\n",
       "      <td>1.178164</td>\n",
       "      <td>0.028299</td>\n",
       "      <td>0.763185</td>\n",
       "      <td>1.0</td>\n",
       "      <td>0</td>\n",
       "      <td>1</td>\n",
       "    </tr>\n",
       "  </tbody>\n",
       "</table>\n",
       "</div>"
      ],
      "text/plain": [
       "        pop     dist1     dist2  entryprob1  entryprob2  equitype  entry1  \\\n",
       "0  1.785304  2.490992  0.834502    0.023052    0.922701       0.0       0   \n",
       "1  2.147697  2.314002  0.919603    0.845843    0.131954       2.0       1   \n",
       "2  1.941536  2.530796  1.679463    0.032224    0.906250       1.0       0   \n",
       "3  1.010513  1.382964  1.607856    0.689004    0.038487       2.0       1   \n",
       "4  1.133806  1.769167  1.178164    0.028299    0.763185       1.0       0   \n",
       "\n",
       "   entry2  \n",
       "0       1  \n",
       "1       0  \n",
       "2       1  \n",
       "3       1  \n",
       "4       1  "
      ]
     },
     "execution_count": 14,
     "metadata": {},
     "output_type": "execute_result"
    }
   ],
   "source": [
    "# index_col = 0にしないとunnamedがついてくる\n",
    "df = pd.read_csv(\"1.7--0.5--6.csv\", index_col = 0)\n",
    "df.head(5)"
   ]
  },
  {
   "cell_type": "code",
   "execution_count": null,
   "metadata": {
    "collapsed": true
   },
   "outputs": [],
   "source": []
  }
 ],
 "metadata": {
  "kernelspec": {
   "display_name": "Python 3",
   "language": "python",
   "name": "python3"
  },
  "language_info": {
   "codemirror_mode": {
    "name": "ipython",
    "version": 3
   },
   "file_extension": ".py",
   "mimetype": "text/x-python",
   "name": "python",
   "nbconvert_exporter": "python",
   "pygments_lexer": "ipython3",
   "version": "3.5.1"
  }
 },
 "nbformat": 4,
 "nbformat_minor": 0
}
