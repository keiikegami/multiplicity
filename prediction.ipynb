{
 "cells": [
  {
   "cell_type": "code",
   "execution_count": 1,
   "metadata": {
    "collapsed": true
   },
   "outputs": [],
   "source": [
    "import pandas as pd\n",
    "import numpy as np\n",
    "import generatedata as gd"
   ]
  },
  {
   "cell_type": "code",
   "execution_count": 2,
   "metadata": {
    "collapsed": true
   },
   "outputs": [],
   "source": [
    "param1 = (1.7, -0.5, -6)"
   ]
  },
  {
   "cell_type": "code",
   "execution_count": 3,
   "metadata": {
    "collapsed": false
   },
   "outputs": [],
   "source": [
    "# index_col = 0にしないとunnamedがついてくる\n",
    "df = pd.read_csv(\"1.7--0.5--6.csv\", index_col = 0)"
   ]
  },
  {
   "cell_type": "markdown",
   "metadata": {},
   "source": [
    "## 教師ありでは均衡のタイプを予測できるか？\n",
    "\n",
    "結構予測できる"
   ]
  },
  {
   "cell_type": "code",
   "execution_count": 4,
   "metadata": {
    "collapsed": false
   },
   "outputs": [],
   "source": [
    "# 一つしか均衡がないかったやつをsingleというダミー変数で表す\n",
    "df[\"single\"] = df[\"equitype\"].apply(lambda x:1 if x == 0.0 else 0)"
   ]
  },
  {
   "cell_type": "code",
   "execution_count": 24,
   "metadata": {
    "collapsed": false
   },
   "outputs": [
    {
     "data": {
      "text/html": [
       "<div>\n",
       "<table border=\"1\" class=\"dataframe\">\n",
       "  <thead>\n",
       "    <tr style=\"text-align: right;\">\n",
       "      <th></th>\n",
       "      <th>pop</th>\n",
       "      <th>dist1</th>\n",
       "      <th>dist2</th>\n",
       "      <th>entryprob1</th>\n",
       "      <th>entryprob2</th>\n",
       "      <th>equitype</th>\n",
       "      <th>entry1</th>\n",
       "      <th>entry2</th>\n",
       "      <th>single</th>\n",
       "    </tr>\n",
       "  </thead>\n",
       "  <tbody>\n",
       "    <tr>\n",
       "      <th>0</th>\n",
       "      <td>1.785304</td>\n",
       "      <td>2.490992</td>\n",
       "      <td>0.834502</td>\n",
       "      <td>0.023052</td>\n",
       "      <td>0.922701</td>\n",
       "      <td>0.0</td>\n",
       "      <td>0</td>\n",
       "      <td>1</td>\n",
       "      <td>1</td>\n",
       "    </tr>\n",
       "    <tr>\n",
       "      <th>1</th>\n",
       "      <td>2.147697</td>\n",
       "      <td>2.314002</td>\n",
       "      <td>0.919603</td>\n",
       "      <td>0.845843</td>\n",
       "      <td>0.131954</td>\n",
       "      <td>2.0</td>\n",
       "      <td>1</td>\n",
       "      <td>0</td>\n",
       "      <td>0</td>\n",
       "    </tr>\n",
       "    <tr>\n",
       "      <th>2</th>\n",
       "      <td>1.941536</td>\n",
       "      <td>2.530796</td>\n",
       "      <td>1.679463</td>\n",
       "      <td>0.032224</td>\n",
       "      <td>0.906250</td>\n",
       "      <td>1.0</td>\n",
       "      <td>0</td>\n",
       "      <td>1</td>\n",
       "      <td>0</td>\n",
       "    </tr>\n",
       "    <tr>\n",
       "      <th>3</th>\n",
       "      <td>1.010513</td>\n",
       "      <td>1.382964</td>\n",
       "      <td>1.607856</td>\n",
       "      <td>0.689004</td>\n",
       "      <td>0.038487</td>\n",
       "      <td>2.0</td>\n",
       "      <td>1</td>\n",
       "      <td>1</td>\n",
       "      <td>0</td>\n",
       "    </tr>\n",
       "    <tr>\n",
       "      <th>4</th>\n",
       "      <td>1.133806</td>\n",
       "      <td>1.769167</td>\n",
       "      <td>1.178164</td>\n",
       "      <td>0.028299</td>\n",
       "      <td>0.763185</td>\n",
       "      <td>1.0</td>\n",
       "      <td>0</td>\n",
       "      <td>1</td>\n",
       "      <td>0</td>\n",
       "    </tr>\n",
       "  </tbody>\n",
       "</table>\n",
       "</div>"
      ],
      "text/plain": [
       "        pop     dist1     dist2  entryprob1  entryprob2  equitype  entry1  \\\n",
       "0  1.785304  2.490992  0.834502    0.023052    0.922701       0.0       0   \n",
       "1  2.147697  2.314002  0.919603    0.845843    0.131954       2.0       1   \n",
       "2  1.941536  2.530796  1.679463    0.032224    0.906250       1.0       0   \n",
       "3  1.010513  1.382964  1.607856    0.689004    0.038487       2.0       1   \n",
       "4  1.133806  1.769167  1.178164    0.028299    0.763185       1.0       0   \n",
       "\n",
       "   entry2  single  \n",
       "0       1       1  \n",
       "1       0       0  \n",
       "2       1       0  \n",
       "3       1       0  \n",
       "4       1       0  "
      ]
     },
     "execution_count": 24,
     "metadata": {},
     "output_type": "execute_result"
    }
   ],
   "source": [
    "df.head(5)"
   ]
  },
  {
   "cell_type": "code",
   "execution_count": 5,
   "metadata": {
    "collapsed": false
   },
   "outputs": [
    {
     "data": {
      "text/plain": [
       "LogisticRegression(C=1.0, class_weight=None, dual=False, fit_intercept=True,\n",
       "          intercept_scaling=1, max_iter=100, multi_class='ovr', n_jobs=1,\n",
       "          penalty='l2', random_state=None, solver='liblinear', tol=0.0001,\n",
       "          verbose=0, warm_start=False)"
      ]
     },
     "execution_count": 5,
     "metadata": {},
     "output_type": "execute_result"
    }
   ],
   "source": [
    "# type 0かそうでないかの予測\n",
    "from sklearn.linear_model import LogisticRegression\n",
    "from sklearn.metrics import accuracy_score\n",
    "\n",
    "X = df.drop([\"entryprob1\", \"entryprob2\", \"equitype\",\"single\"], axis = 1)\n",
    "y = df.single\n",
    "\n",
    "clf = LogisticRegression()\n",
    "clf.fit(X, y)"
   ]
  },
  {
   "cell_type": "code",
   "execution_count": 6,
   "metadata": {
    "collapsed": false
   },
   "outputs": [
    {
     "data": {
      "text/html": [
       "<div>\n",
       "<style>\n",
       "    .dataframe thead tr:only-child th {\n",
       "        text-align: right;\n",
       "    }\n",
       "\n",
       "    .dataframe thead th {\n",
       "        text-align: left;\n",
       "    }\n",
       "\n",
       "    .dataframe tbody tr th {\n",
       "        vertical-align: top;\n",
       "    }\n",
       "</style>\n",
       "<table border=\"1\" class=\"dataframe\">\n",
       "  <thead>\n",
       "    <tr style=\"text-align: right;\">\n",
       "      <th></th>\n",
       "      <th>0</th>\n",
       "      <th>1</th>\n",
       "    </tr>\n",
       "  </thead>\n",
       "  <tbody>\n",
       "    <tr>\n",
       "      <th>0</th>\n",
       "      <td>pop</td>\n",
       "      <td>-0.132387</td>\n",
       "    </tr>\n",
       "    <tr>\n",
       "      <th>1</th>\n",
       "      <td>dist1</td>\n",
       "      <td>1.26925</td>\n",
       "    </tr>\n",
       "    <tr>\n",
       "      <th>2</th>\n",
       "      <td>dist2</td>\n",
       "      <td>0.0531488</td>\n",
       "    </tr>\n",
       "    <tr>\n",
       "      <th>3</th>\n",
       "      <td>entry1</td>\n",
       "      <td>-0.128074</td>\n",
       "    </tr>\n",
       "    <tr>\n",
       "      <th>4</th>\n",
       "      <td>entry2</td>\n",
       "      <td>0.191488</td>\n",
       "    </tr>\n",
       "  </tbody>\n",
       "</table>\n",
       "</div>"
      ],
      "text/plain": [
       "        0          1\n",
       "0     pop  -0.132387\n",
       "1   dist1    1.26925\n",
       "2   dist2  0.0531488\n",
       "3  entry1  -0.128074\n",
       "4  entry2   0.191488"
      ]
     },
     "execution_count": 6,
     "metadata": {},
     "output_type": "execute_result"
    }
   ],
   "source": [
    "# 係数\n",
    "coeff_df = pd.DataFrame([X.columns, clf.coef_[0]]).T\n",
    "coeff_df"
   ]
  },
  {
   "cell_type": "code",
   "execution_count": 7,
   "metadata": {
    "collapsed": true
   },
   "outputs": [],
   "source": [
    "predicted_value = clf.predict(X)"
   ]
  },
  {
   "cell_type": "code",
   "execution_count": 8,
   "metadata": {
    "collapsed": false
   },
   "outputs": [
    {
     "data": {
      "text/plain": [
       "0.70480752173141747"
      ]
     },
     "execution_count": 8,
     "metadata": {},
     "output_type": "execute_result"
    }
   ],
   "source": [
    "# そこそこ予測できるな？\n",
    "accuracy_score(y, predicted_value)"
   ]
  },
  {
   "cell_type": "markdown",
   "metadata": {},
   "source": [
    "testとtrainに分けてみる"
   ]
  },
  {
   "cell_type": "code",
   "execution_count": 11,
   "metadata": {
    "collapsed": false
   },
   "outputs": [
    {
     "data": {
      "text/plain": [
       "0.71394799054373526"
      ]
     },
     "execution_count": 11,
     "metadata": {},
     "output_type": "execute_result"
    }
   ],
   "source": [
    "# これでもかなり予想できる\n",
    "from sklearn.model_selection import train_test_split\n",
    "X = df.drop([\"entryprob1\", \"entryprob2\", \"equitype\",\"single\"], axis = 1)\n",
    "y = df.single\n",
    "X_train, X_test, y_train, y_test = train_test_split(X, y, test_size=0.3, random_state=42)\n",
    "\n",
    "clf_train = LogisticRegression()\n",
    "clf_train.fit(X_train, y_train)\n",
    "\n",
    "pred = clf_train.predict(X_test)\n",
    "accuracy_score(y_test, pred)"
   ]
  },
  {
   "cell_type": "markdown",
   "metadata": {
    "collapsed": true
   },
   "source": []
  }
 ],
 "metadata": {
  "kernelspec": {
   "display_name": "Python 3",
   "language": "python",
   "name": "python3"
  },
  "language_info": {
   "codemirror_mode": {
    "name": "ipython",
    "version": 3
   },
   "file_extension": ".py",
   "mimetype": "text/x-python",
   "name": "python",
   "nbconvert_exporter": "python",
   "pygments_lexer": "ipython3",
   "version": "3.5.1"
  }
 },
 "nbformat": 4,
 "nbformat_minor": 0
}
