{
 "cells": [
  {
   "cell_type": "markdown",
   "metadata": {},
   "source": [
    "不完備情報2社参入ゲームのサンプルデータを作る。\n",
    "\n",
    "利得関数に入るのはPop, Dist, sigma（相手の参入確率）で、それぞれにつくパラメータとサンプルマーケットの数を指定してオブジェクトを作ることを考える。"
   ]
  },
  {
   "cell_type": "code",
   "execution_count": 1,
   "metadata": {
    "collapsed": true
   },
   "outputs": [],
   "source": [
    "import numpy as np\n",
    "import matplotlib.pyplot as plt"
   ]
  },
  {
   "cell_type": "code",
   "execution_count": null,
   "metadata": {
    "collapsed": true
   },
   "outputs": [],
   "source": [
    "class Seim:\n",
    "    def __init__(self, alpha, beta, delta, Market_num):\n",
    "        self.alpha, self.beta, self.delta, self.Market_num = alpha, beta, delta, Market_num\n",
    "        \n",
    "    def pop(self):\n",
    "        Population = np.random.uniform(size = (self.Merket_num, 1))\n",
    "        return Population\n",
    "    \n",
    "    def dist(self):\n",
    "        Distance = np.random.uniform(size = (self.Merket_num, 2))\n",
    "        return Distance\n",
    "    \n",
    "    def fixedpoint(self, error):\n",
    "        # ここで初期値に依存して到達する均衡が異なる。→今のモデルであれば具体的にそのthresholdが求められる。\n",
    "        "
   ]
  },
  {
   "cell_type": "markdown",
   "metadata": {},
   "source": [
    "このモデルにおいて別々の均衡に到達する初期値の場所を探す"
   ]
  },
  {
   "cell_type": "code",
   "execution_count": 17,
   "metadata": {
    "collapsed": true
   },
   "outputs": [],
   "source": [
    "# PopとDistを固定した一つの市場に注目する。\n",
    "def update(sigma1, sigma2, pop, dist, alpha, beta, delta):\n",
    "    updatesigma1 = np.exp(alpha*pop + beta*dist[0] + delta*sigma2)/(1 + np.exp(alpha*pop + beta*dist[0] + delta*sigma2))\n",
    "    updatesigma2 = np.exp(alpha*pop + beta*dist[0] + delta*sigma1)/(1 +np.exp(alpha*pop + beta*dist[0] + delta*sigma1))\n",
    "    return [updatesigma1, updatesigma2]\n",
    "\n",
    "def fixpoint(sigma1, sigma2, pop, dist, alpha, beta, delta, error):\n",
    "    diff = (update(sigma1, sigma2, pop, dist, alpha, beta, delta)[0] - sigma1)**2 + (update(sigma1, sigma2, pop, dist, alpha, beta, delta)[1] - sigma2)**2\n",
    "    while diff > error:\n",
    "        sigma1 = update(sigma1, sigma2, pop, dist, alpha, beta, delta)[0]\n",
    "        sigma2 = update(sigma1, sigma2, pop, dist, alpha, beta, delta)[1]\n",
    "        diff = (update(sigma1, sigma2, pop, dist, alpha, beta, delta)[0] - sigma1)**2 + (update(sigma1, sigma2, pop, dist, alpha, beta, delta)[1] - sigma2)**2\n",
    "    return [sigma1, sigma2]"
   ]
  },
  {
   "cell_type": "code",
   "execution_count": 21,
   "metadata": {
    "collapsed": false
   },
   "outputs": [],
   "source": [
    "# 　設定\n",
    "pop = 1\n",
    "dist = [1, 2]\n",
    "alpha = 0.5\n",
    "beta = -0.7\n",
    "delta = -0.3\n",
    "error = 1.0e-20"
   ]
  },
  {
   "cell_type": "code",
   "execution_count": 25,
   "metadata": {
    "collapsed": false
   },
   "outputs": [
    {
     "data": {
      "text/plain": [
       "[0.41926769215055837, 0.41926769212370768]"
      ]
     },
     "execution_count": 25,
     "metadata": {},
     "output_type": "execute_result"
    }
   ],
   "source": [
    "fixpoint(0, 0, pop, dist, alpha, beta, delta, error)"
   ]
  },
  {
   "cell_type": "code",
   "execution_count": 22,
   "metadata": {
    "collapsed": false
   },
   "outputs": [
    {
     "data": {
      "text/plain": [
       "[0.41926769209168768, 0.41926769212800785]"
      ]
     },
     "execution_count": 22,
     "metadata": {},
     "output_type": "execute_result"
    }
   ],
   "source": [
    "fixpoint(1,1, pop, dist, alpha, beta, delta, error)"
   ]
  },
  {
   "cell_type": "code",
   "execution_count": 23,
   "metadata": {
    "collapsed": false
   },
   "outputs": [
    {
     "data": {
      "text/plain": [
       "[0.41926769209168768, 0.41926769212800785]"
      ]
     },
     "execution_count": 23,
     "metadata": {},
     "output_type": "execute_result"
    }
   ],
   "source": [
    "fixpoint(0, 1, pop, dist, alpha, beta, delta, error)"
   ]
  },
  {
   "cell_type": "code",
   "execution_count": 24,
   "metadata": {
    "collapsed": false
   },
   "outputs": [
    {
     "data": {
      "text/plain": [
       "[0.41926769215055837, 0.41926769212370768]"
      ]
     },
     "execution_count": 24,
     "metadata": {},
     "output_type": "execute_result"
    }
   ],
   "source": [
    "fixpoint(1, 0, pop, dist, alpha, beta, delta, error)"
   ]
  },
  {
   "cell_type": "markdown",
   "metadata": {},
   "source": [
    "単一っぽい。updateの過程を描く"
   ]
  },
  {
   "cell_type": "code",
   "execution_count": 34,
   "metadata": {
    "collapsed": false
   },
   "outputs": [],
   "source": [
    "point_num = 100\n",
    "sigmas = np.zeros((point_num, 2))\n",
    "sigma1 = 0\n",
    "sigma2 = 0\n",
    "initial = [sigma1, sigma2]\n",
    "sigmas[0, :] = initial\n",
    "for i in range(point_num-1):\n",
    "    sigmas[i+1 , :] = update(sigmas[i, 0], sigmas[i, 1], pop, dist, alpha, beta, delta)"
   ]
  },
  {
   "cell_type": "code",
   "execution_count": 39,
   "metadata": {
    "collapsed": false
   },
   "outputs": [
    {
     "data": {
      "text/plain": [
       "array([[ 0.        ,  0.        ],\n",
       "       [ 0.450166  ,  0.450166  ],\n",
       "       [ 0.41701244,  0.41701244],\n",
       "       [ 0.41943244,  0.41943244],\n",
       "       [ 0.41925566,  0.41925566]])"
      ]
     },
     "execution_count": 39,
     "metadata": {},
     "output_type": "execute_result"
    }
   ],
   "source": [
    "sigmas[0:5, :]"
   ]
  },
  {
   "cell_type": "code",
   "execution_count": null,
   "metadata": {
    "collapsed": true
   },
   "outputs": [],
   "source": []
  }
 ],
 "metadata": {
  "kernelspec": {
   "display_name": "Python 3",
   "language": "python",
   "name": "python3"
  },
  "language_info": {
   "codemirror_mode": {
    "name": "ipython",
    "version": 3
   },
   "file_extension": ".py",
   "mimetype": "text/x-python",
   "name": "python",
   "nbconvert_exporter": "python",
   "pygments_lexer": "ipython3",
   "version": "3.5.1"
  }
 },
 "nbformat": 4,
 "nbformat_minor": 0
}
